{
 "cells": [
  {
   "cell_type": "code",
   "execution_count": null,
   "id": "improving-consortium",
   "metadata": {},
   "outputs": [],
   "source": [
    "import pandas as pd\n",
    "import json\n",
    "import glob\n",
    "import matplotlib.pyplot as plt\n",
    "import numpy as np\n",
    "\n",
    "import sklearn\n",
    "import sklearn.metrics\n",
    "import matplotlib\n",
    "import scipy\n",
    "import mplhep as hep\n"
   ]
  },
  {
   "cell_type": "code",
   "execution_count": null,
   "id": "improved-response",
   "metadata": {},
   "outputs": [],
   "source": [
    "!ls ../experiments/*/pred.npz"
   ]
  },
  {
   "cell_type": "code",
   "execution_count": null,
   "id": "employed-offense",
   "metadata": {},
   "outputs": [],
   "source": [
    "def flatten(arr):\n",
    "    return arr.reshape((arr.shape[0]*arr.shape[1], arr.shape[2]))"
   ]
  },
  {
   "cell_type": "code",
   "execution_count": null,
   "id": "million-documentary",
   "metadata": {},
   "outputs": [],
   "source": [
    "pid_names = {\n",
    "    1: \"ch.had\",\n",
    "    2: \"n.had\",\n",
    "    3: \"HFEM\",\n",
    "    4: \"HFHAD\",\n",
    "    5: \"g\",\n",
    "    6: \"el\",\n",
    "    7: \"mu\"\n",
    "}\n",
    "\n",
    "var_names = {\n",
    "    1: \"charge\",\n",
    "    2: \"pt\",\n",
    "    3: \"eta\",\n",
    "    4: \"sin phi\",\n",
    "    5: \"cos phi\",\n",
    "    6: \"energy\"\n",
    "}"
   ]
  },
  {
   "cell_type": "code",
   "execution_count": null,
   "id": "generous-shield",
   "metadata": {},
   "outputs": [],
   "source": [
    "dd = np.load(\"../experiments/cms-gnn-skipconn-v2-6c655f0d/pred.npz\")\n",
    "X = dd[\"X\"]\n",
    "ygen = dd[\"ygen\"]\n",
    "ycand = dd[\"ycand\"]\n",
    "ypred = dd[\"ypred\"]\n",
    "ypred_raw = dd[\"ypred_raw\"]\n",
    "\n",
    "X_f = X.reshape((X.shape[0]*X.shape[1], X.shape[2]))\n",
    "ygen_f = ygen.reshape((ygen.shape[0]*ygen.shape[1], ygen.shape[2]))\n",
    "ycand_f = ycand.reshape((ycand.shape[0]*ycand.shape[1], ycand.shape[2]))\n",
    "ypred_f = ypred.reshape((ypred.shape[0]*ypred.shape[1], ypred.shape[2]))\n",
    "ypred_raw_f = ypred_raw.reshape((ypred_raw.shape[0]*ypred_raw.shape[1], ypred_raw.shape[2]))"
   ]
  },
  {
   "cell_type": "code",
   "execution_count": null,
   "id": "solid-trout",
   "metadata": {},
   "outputs": [],
   "source": [
    "msk_X = X_f[:, 0]!=0"
   ]
  },
  {
   "cell_type": "code",
   "execution_count": null,
   "id": "chinese-riding",
   "metadata": {},
   "outputs": [],
   "source": [
    "x_labels = [\n",
    "    \"none\", \"track\", \"PS1\", \"PS2\", \"ECAL\", \"HCAL\", \"GSF\", \"BREM\", \"HFEM\", \"HFHAD\", \"SC\", \"HO\"\n",
    "]\n",
    "y_labels = [\n",
    "    \"none\", \"ch.had\", \"n.had\", \"HFEM\", \"HFHAD\", \"g\", \"el\", \"mu\"\n",
    "]\n",
    "\n",
    "cm0 = sklearn.metrics.confusion_matrix(\n",
    "    X_f[msk_X, 0],\n",
    "    ycand_f[msk_X, 0],\n",
    "    labels=range(12),\n",
    "    normalize=\"pred\"\n",
    ")\n",
    "\n",
    "plt.figure(figsize=(8, 8))\n",
    "plt.imshow(cm0[:12, :8], cmap=\"Blues\")\n",
    "plt.colorbar()\n",
    "plt.yticks(ticks=range(12), labels=x_labels);\n",
    "plt.xticks(ticks=range(8), labels=y_labels);\n",
    "plt.xlabel(\"PFCandidate\")\n",
    "plt.ylabel(\"PFElement\")"
   ]
  },
  {
   "cell_type": "code",
   "execution_count": null,
   "id": "improved-floating",
   "metadata": {},
   "outputs": [],
   "source": [
    "cm1 = sklearn.metrics.confusion_matrix(\n",
    "    X_f[msk_X, 0],\n",
    "    ypred_f[msk_X, 0],\n",
    "    labels=range(12),\n",
    "    normalize=\"pred\"\n",
    ")\n",
    "\n",
    "plt.figure(figsize=(8, 8))\n",
    "plt.imshow(cm1[:12, :8], cmap=\"Blues\")\n",
    "plt.colorbar()\n",
    "plt.yticks(ticks=range(12), labels=x_labels);\n",
    "plt.xticks(ticks=range(8), labels=y_labels);\n",
    "plt.xlabel(\"PFCandidate\")\n",
    "plt.ylabel(\"PFElement\")"
   ]
  },
  {
   "cell_type": "code",
   "execution_count": null,
   "id": "cardiovascular-definition",
   "metadata": {},
   "outputs": [],
   "source": [
    "def apply_thresholds_f(thresholds):\n",
    "    msk = np.ones_like(ypred_raw_f)\n",
    "    for i in range(len(thresholds)):\n",
    "        msk[:, i] = ypred_raw_f[:, i]>thresholds[i]\n",
    "    ypred_id_f = np.argmax(ypred_raw_f*msk, axis=-1)\n",
    "    return ypred_id_f\n",
    "\n",
    "def apply_thresholds(thresholds):\n",
    "    msk = np.ones_like(ypred_raw)\n",
    "    for i in range(len(thresholds)):\n",
    "        msk[:, :, i] = ypred_raw[:, :, i]>thresholds[i]\n",
    "    ypred_id = np.argmax(ypred_raw*msk, axis=-1)\n",
    "    return ypred_id"
   ]
  },
  {
   "cell_type": "code",
   "execution_count": null,
   "id": "textile-guinea",
   "metadata": {},
   "outputs": [],
   "source": [
    "niter = 0\n",
    "accs = []\n",
    "def func(thresholds):\n",
    "    global niter\n",
    "    #thresholds = np.round(thresholds, 2)\n",
    "    \n",
    "    ypred_id = apply_thresholds(thresholds)\n",
    "    #ypred_id = np.argmax(ypred_raw/thresholds, axis=-1)\n",
    "    \n",
    "    err = 0\n",
    "    for icls in range(1,8):\n",
    "        ntrue = np.sum(ycand[:, :, 0]==icls, axis=1)\n",
    "        npred = np.sum(ypred_id==icls, axis=1)\n",
    "        e = np.sqrt(np.sum((ntrue-npred)**2)) / np.mean(ntrue)\n",
    "        err += e\n",
    "    #perm = np.random.permutation(ycand_f[msk_X, 0].shape[0])[:100000]\n",
    "    #acc = sklearn.metrics.balanced_accuracy_score(ycand_f[msk_X, 0][perm], ypred_id_f[msk_X][perm])\n",
    "    #acc = sklearn.metrics.jaccard_score(ycand_f[msk_X, 0], ypred_id_f[msk_X], average=\"macro\")\n",
    "    #err += np.sum((thresholds - 1.0)**2)\n",
    "    accs.append(err)\n",
    "    niter += 1\n",
    "    if niter%10==0:\n",
    "        print(niter, err, thresholds)\n",
    "    return err\n",
    "\n",
    "ret = scipy.optimize.minimize(\n",
    "    func,\n",
    "    0.5*np.ones(8),\n",
    "    method=\"Nelder-Mead\",\n",
    "    options={\"adaptive\": True, \"xatol\": 0.01, \"fatol\": 0.01}\n",
    "    #bounds=[(0,2) for i in range(8)]\n",
    ")"
   ]
  },
  {
   "cell_type": "code",
   "execution_count": null,
   "id": "interior-residence",
   "metadata": {},
   "outputs": [],
   "source": [
    "plt.plot(accs)\n",
    "plt.ylim(0.8*np.min(accs),100)"
   ]
  },
  {
   "cell_type": "code",
   "execution_count": null,
   "id": "elect-dayton",
   "metadata": {},
   "outputs": [],
   "source": [
    "ypred_id = apply_thresholds(ret.x)\n",
    "ypred_id_f = apply_thresholds_f(ret.x)"
   ]
  },
  {
   "cell_type": "code",
   "execution_count": null,
   "id": "clean-pasta",
   "metadata": {},
   "outputs": [],
   "source": [
    "cm_norm = sklearn.metrics.confusion_matrix(\n",
    "    ycand_f[msk_X, 0],\n",
    "    ypred_id_f[msk_X],\n",
    "    labels=range(8),\n",
    "    normalize=\"true\"\n",
    ")\n",
    "\n",
    "cm = sklearn.metrics.confusion_matrix(\n",
    "    ycand_f[msk_X, 0],\n",
    "    ypred_id_f[msk_X],\n",
    "    labels=range(8),\n",
    ")"
   ]
  },
  {
   "cell_type": "code",
   "execution_count": null,
   "id": "trained-criterion",
   "metadata": {},
   "outputs": [],
   "source": [
    "plt.figure(figsize=(8, 8))\n",
    "plt.imshow(cm_norm[1:, 1:], cmap=\"Blues\")\n",
    "plt.colorbar()"
   ]
  },
  {
   "cell_type": "code",
   "execution_count": null,
   "id": "premier-haven",
   "metadata": {},
   "outputs": [],
   "source": [
    "plt.figure(figsize=(8, 8))\n",
    "plt.imshow(cm[1:, 1:], cmap=\"Blues\", norm=matplotlib.colors.LogNorm())\n",
    "plt.colorbar()"
   ]
  },
  {
   "cell_type": "code",
   "execution_count": null,
   "id": "lightweight-invalid",
   "metadata": {},
   "outputs": [],
   "source": [
    "bins = {\n",
    "    2: np.linspace(0,100,100),\n",
    "    3: np.linspace(-8,8,100),\n",
    "    4: np.linspace(-1,1,100),\n",
    "    5: np.linspace(-1,1,100),\n",
    "    6: np.linspace(0,500,100),\n",
    "}"
   ]
  },
  {
   "cell_type": "code",
   "execution_count": null,
   "id": "sunset-parallel",
   "metadata": {},
   "outputs": [],
   "source": [
    "u1 = np.unique(ycand_f[msk_X, 0], return_counts=True)\n",
    "u2 = np.unique(ypred_id_f[msk_X], return_counts=True)\n",
    "u3 = np.unique(ygen_f[msk_X, 0], return_counts=True)"
   ]
  },
  {
   "cell_type": "code",
   "execution_count": null,
   "id": "revolutionary-thunder",
   "metadata": {},
   "outputs": [],
   "source": [
    "icls = 6\n",
    "ivar = 2\n",
    "b = np.linspace(0,100,100)\n",
    "plt.hist(ygen_f[ygen_f[:, 0]==icls, ivar], bins=b, histtype=\"step\", lw=2);\n",
    "plt.hist(ycand_f[ycand_f[:, 0]==icls, ivar], bins=b, histtype=\"step\", lw=2);\n",
    "plt.hist(ypred_f[ypred_id_f==icls, ivar], bins=b, histtype=\"step\", lw=2);\n",
    "plt.yscale(\"log\")"
   ]
  },
  {
   "cell_type": "code",
   "execution_count": null,
   "id": "written-julian",
   "metadata": {},
   "outputs": [],
   "source": [
    "plt.bar(u1[0]-0.2, u1[1], width=0.4)\n",
    "plt.bar(u2[0]+0.2, u2[1], width=0.4)\n",
    "#plt.bar(u3[0]+0.2, u3[1], width=0.4)\n",
    "#plt.yscale(\"log\")"
   ]
  },
  {
   "cell_type": "code",
   "execution_count": null,
   "id": "australian-motion",
   "metadata": {},
   "outputs": [],
   "source": [
    "fig, axes = plt.subplots(7, 6, figsize=(6*6,7*5))\n",
    "\n",
    "for axs, icls in zip(axes, range(1,8)):    \n",
    "    axes = axs.flatten()\n",
    "    \n",
    "    npred = np.sum(ypred_id == icls, axis=1)\n",
    "    ncand = np.sum(ycand[:, :, 0] == icls, axis=1)\n",
    "    ngen = np.sum(ygen[:, :, 0] == icls, axis=1)\n",
    "    \n",
    "    a = 0.5*np.min(ncand)\n",
    "    b = 1.5*np.max(ncand)\n",
    "    \n",
    "    axes[0].scatter(ncand, npred)\n",
    "    \n",
    "    axes[0].set_xlim(a,b)\n",
    "    axes[0].set_ylim(a,b)\n",
    "    axes[0].plot([a,b],[a,b], color=\"black\", ls=\"--\")\n",
    "    axes[0].set_title(pid_names[icls])\n",
    "    axes[0].set_xlabel(\"number of PFCandidates\")\n",
    "    axes[0].set_ylabel(\"number of MLPFCandidates\")\n",
    "        \n",
    "    for ivar, ax in zip([2,3,4,5,6], axes[1:]):\n",
    "        hist = np.histogram2d(\n",
    "            ycand_f[(ycand_f[:, 0]==icls) & (ypred_id_f==icls), ivar],\n",
    "            ypred_f[(ycand_f[:, 0]==icls) & (ypred_id_f==icls), ivar], bins=(bins[ivar], bins[ivar])\n",
    "        )\n",
    "        hep.hist2dplot(\n",
    "            hist, cmap=\"Blues\",\n",
    "            #norm=matplotlib.colors.LogNorm(vmin=1, vmax=max(10, 10*np.max(hist[0]))),\n",
    "            norm=matplotlib.colors.Normalize(vmin=0, vmax=max(10, np.max(hist[0]))),\n",
    "            ax=ax\n",
    "        )\n",
    "        ax.set_title(\"{}, {}\".format(pid_names[icls], var_names[ivar]))\n",
    "        ax.set_xlabel(\"true value (PFCandidate)\")\n",
    "        ax.set_ylabel(\"reconstructed value (MLPF)\")\n",
    "plt.tight_layout()"
   ]
  },
  {
   "cell_type": "code",
   "execution_count": null,
   "id": "fleet-texas",
   "metadata": {},
   "outputs": [],
   "source": []
  }
 ],
 "metadata": {
  "kernelspec": {
   "display_name": "Python 3",
   "language": "python",
   "name": "python3"
  },
  "language_info": {
   "codemirror_mode": {
    "name": "ipython",
    "version": 3
   },
   "file_extension": ".py",
   "mimetype": "text/x-python",
   "name": "python",
   "nbconvert_exporter": "python",
   "pygments_lexer": "ipython3",
   "version": "3.8.5"
  }
 },
 "nbformat": 4,
 "nbformat_minor": 5
}
